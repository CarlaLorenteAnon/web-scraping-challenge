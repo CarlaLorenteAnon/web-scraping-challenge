{
 "cells": [
  {
   "cell_type": "code",
   "execution_count": 4,
   "metadata": {},
   "outputs": [
    {
     "name": "stderr",
     "output_type": "stream",
     "text": [
      "\n",
      "\n",
      "====== WebDriver manager ======\n",
      "Could not get version for google-chrome with the command:  powershell \"$ErrorActionPreference='silentlycontinue' ; (Get-Item -Path \"$env:PROGRAMFILES\\Google\\Chrome\\Application\\chrome.exe\").VersionInfo.FileVersion ; if (-not $? -or $? -match $error) { (Get-Item -Path \"$env:PROGRAMFILES(x86)\\Google\\Chrome\\Application\\chrome.exe\").VersionInfo.FileVersion } if (-not $? -or $? -match $error) { (Get-Item -Path \"$env:LOCALAPPDATA\\Google\\Chrome\\Application\\chrome.exe\").VersionInfo.FileVersion } if (-not $? -or $? -match $error) { reg query \"HKCU\\SOFTWARE\\Google\\Chrome\\BLBeacon\" /v version } if (-not $? -or $? -match $error) { reg query \"HKLM\\SOFTWARE\\Wow6432Node\\Microsoft\\Windows\\CurrentVersion\\Uninstall\\Google Chrome\" /v version }\"\n",
      "Current google-chrome version is UNKNOWN\n",
      "Get LATEST chromedriver version for UNKNOWN google-chrome\n",
      "Trying to download new driver from https://chromedriver.storage.googleapis.com/99.0.4844.51/chromedriver_win32.zip\n",
      "Driver has been saved in cache [C:\\Users\\carlalorente\\.wdm\\drivers\\chromedriver\\win32\\99.0.4844.51]\n"
     ]
    },
    {
     "name": "stdout",
     "output_type": "stream",
     "text": [
      "                      0                              1\n",
      "0  Equatorial Diameter:                       6,792 km\n",
      "1       Polar Diameter:                       6,752 km\n",
      "2                 Mass:  6.39 × 10^23 kg (0.11 Earths)\n",
      "3                Moons:          2 ( Phobos & Deimos )\n",
      "4       Orbit Distance:       227,943,824 km (1.38 AU)\n",
      "5         Orbit Period:           687 days (1.9 years)\n",
      "6  Surface Temperature:                   -87 to -5 °C\n",
      "7         First Record:              2nd millennium BC\n",
      "8          Recorded By:           Egyptian astronomers\n",
      "https://marshemispheres.com/images/39d3266553462198bd2fbc4d18fbed17_cerberus_enhanced.tif_thumb.png\n",
      "Cerberus Hemisphere Enhanced\n",
      "https://marshemispheres.com/images/08eac6e22c07fb1fe72223a79252de20_schiaparelli_enhanced.tif_thumb.png\n",
      "Schiaparelli Hemisphere Enhanced\n",
      "https://marshemispheres.com/images/55a0a1e2796313fdeafb17c35925e8ac_syrtis_major_enhanced.tif_thumb.png\n",
      "Syrtis Major Hemisphere Enhanced\n",
      "https://marshemispheres.com/images/4e59980c1c57f89c680c0e1ccabbeff1_valles_marineris_enhanced.tif_thumb.png\n",
      "Valles Marineris Hemisphere Enhanced\n"
     ]
    }
   ],
   "source": [
    "from bs4 import BeautifulSoup as bs\n",
    "import requests\n",
    "from webdriver_manager.chrome import ChromeDriverManager\n",
    "from splinter import Browser\n",
    "import pandas as pd\n",
    "\n",
    "\n",
    "#set up dict to return data\n",
    "scrapped_data = {}\n",
    "\n",
    "#set up splinter\n",
    "executable_path = {'executable_path': ChromeDriverManager().install()}\n",
    "browser = Browser('chrome', **executable_path, headless=False)\n",
    "\n",
    "url ='https://mars.nasa.gov/news/'\n",
    "browser.visit(url)\n",
    "html=browser.html\n",
    "soup = bs(html, 'html.parser')\n",
    "news_title=soup.findAll('div', class_='content_title')[1].text\n",
    "news_p = soup.findAll('div', class_ ='article_teaser_body')[0].text\n",
    "scrapped_data[\"news_title\"] = news_title\n",
    "scrapped_data[\"news_paragraph\"] = news_p\n",
    "\n",
    "url = 'https://spaceimages-mars.com/'\n",
    "browser.visit(url)\n",
    "browser.links.find_by_partial_text('FULL IMAGE').click()\n",
    "html = browser.html\n",
    "soup = bs(html, 'html.parser')\n",
    "link_image = soup.findAll('img', class_='headerimage')[0][\"src\"]\n",
    "featured_image_url =url + link_image\n",
    "scrapped_data[\"featured_image_url\"] = featured_image_url\n",
    "\n",
    "\n",
    "url = 'https://galaxyfacts-mars.com/'\n",
    "browser.visit(url)\n",
    "html = browser.html\n",
    "soup = bs(html, 'html.parser')\n",
    "tables = pd.read_html(url)\n",
    "mars_fact=tables[1]\n",
    "print(mars_fact)\n",
    "table = mars_fact[:].to_html(index=False, header=False, border=2)\n",
    "table.replace('\\n', '')\n",
    "scrapped_data[\"mars_facts\"] = table  #table1.to_html()\n",
    "\n",
    "\n",
    "url = 'https://marshemispheres.com/'\n",
    "browser.visit(url)\n",
    "html=browser.html\n",
    "soup = bs(html, 'html.parser')\n",
    "list_of_images=soup.findAll('img', class_='thumb')\n",
    "hemisphere_image_urls = [] #list of dictionary to add the links to images and titles\n",
    "for image in list_of_images:\n",
    "        link_to_image = url+image[\"src\"]\n",
    "        title = image[\"alt\"][:-10]\n",
    "        print(link_to_image)\n",
    "        print(title)\n",
    "        hem_dict={\n",
    "            'title':title,\n",
    "            'image_url':link_to_image\n",
    "        }\n",
    "        hemisphere_image_urls.append(hem_dict)\n",
    "scrapped_data[\"mars_hemispheres\"] = hemisphere_image_urls\n",
    "            \n"
   ]
  },
  {
   "cell_type": "code",
   "execution_count": null,
   "metadata": {},
   "outputs": [],
   "source": []
  }
 ],
 "metadata": {
  "kernelspec": {
   "display_name": "Python [conda env:PythonData]",
   "language": "python",
   "name": "conda-env-PythonData-py"
  },
  "language_info": {
   "codemirror_mode": {
    "name": "ipython",
    "version": 3
   },
   "file_extension": ".py",
   "mimetype": "text/x-python",
   "name": "python",
   "nbconvert_exporter": "python",
   "pygments_lexer": "ipython3",
   "version": "3.6.10"
  }
 },
 "nbformat": 4,
 "nbformat_minor": 4
}
