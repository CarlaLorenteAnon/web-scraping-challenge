{
 "cells": [
  {
   "cell_type": "code",
   "execution_count": 1,
   "metadata": {},
   "outputs": [],
   "source": [
    "from bs4 import BeautifulSoup as bs\n",
    "import requests\n",
    "from webdriver_manager.chrome import ChromeDriverManager\n",
    "from splinter import Browser\n",
    "import pandas as pd"
   ]
  },
  {
   "cell_type": "code",
   "execution_count": 2,
   "metadata": {},
   "outputs": [],
   "source": [
    "def scrape():\n",
    "    #set up dict to return data\n",
    "    scrapped_data = {}\n",
    "    \n",
    "    #set up splinter\n",
    "    executable_path = {'executable_path': ChromeDriverManager().install()}\n",
    "    browser = Browser('chrome', **executable_path, headless=False)\n",
    "    \n",
    "    url ='https://mars.nasa.gov/news/'\n",
    "    browser.visit(url)\n",
    "    html=browser.html\n",
    "    soup = bs(html, 'html.parser')\n",
    "    news_title=soup.findAll('div', class_='content_title')[1].text\n",
    "    news_p = soup.findAll('div', class_ ='article_teaser_body')[0].text\n",
    "    scrapped_data[\"news_title\"] = news_title\n",
    "    scrapped_data[\"news_paragraph\"] = news_p\n",
    "    \n",
    "    url = 'https://spaceimages-mars.com/'\n",
    "    browser.visit(url)\n",
    "    browser.links.find_by_partial_text('FULL IMAGE').click()\n",
    "    html = browser.html\n",
    "    soup = bs(html, 'html.parser')\n",
    "    link_image = soup.findAll('img', class_='headerimage')[0][\"src\"]\n",
    "    featured_image_url =url + link_image\n",
    "    scrapped_data[\"featured_image_url\"] = featured_image_url\n",
    "    \n",
    "    \n",
    "    url = 'https://galaxyfacts-mars.com/'\n",
    "    browser.visit(url)\n",
    "    tables = pd.read_html('https://galaxyfacts-mars.com/')\n",
    "    table1 = tables[1]\n",
    "    scrapped_data[\"mars_facts\"] = table1  #table1.to_html()\n",
    "    \n",
    "\n",
    "    url = 'https://marshemispheres.com/'\n",
    "    browser.visit(url)\n",
    "    html=browser.html\n",
    "    soup = bs(html, 'html.parser')\n",
    "    list_of_images=soup.findAll('img', class_='thumb')\n",
    "    hemisphere_image_urls = [] #list of dictionary to add the links to images and titles\n",
    "    for image in list_of_images:\n",
    "            link_to_image = image[\"src\"]\n",
    "            title = image[\"alt\"]\n",
    "            hem_dict={\n",
    "                'title':title,\n",
    "                'image_url':link_to_image\n",
    "            }\n",
    "            hemisphere_image_urls.append(hem_dict)\n",
    "    scrapped_data[\"mars_hemispheres\"] = hemisphere_image_urls\n",
    "            \n",
    "    return scrapped_data"
   ]
  }
 ],
 "metadata": {
  "kernelspec": {
   "display_name": "Python [conda env:PythonData]",
   "language": "python",
   "name": "conda-env-PythonData-py"
  },
  "language_info": {
   "codemirror_mode": {
    "name": "ipython",
    "version": 3
   },
   "file_extension": ".py",
   "mimetype": "text/x-python",
   "name": "python",
   "nbconvert_exporter": "python",
   "pygments_lexer": "ipython3",
   "version": "3.6.10"
  }
 },
 "nbformat": 4,
 "nbformat_minor": 4
}
